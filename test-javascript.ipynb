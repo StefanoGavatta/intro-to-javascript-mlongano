{
 "cells": [
  {
   "cell_type": "code",
   "execution_count": null,
   "metadata": {},
   "outputs": [
    {
     "name": "stdout",
     "output_type": "stream",
     "text": [
      "Hello, World!\n"
     ]
    }
   ],
   "source": [
    "console.log('Hello, World!');"
   ]
  },
  {
   "cell_type": "code",
   "execution_count": null,
   "metadata": {},
   "outputs": [],
   "source": [
    "console.log('ciao');"
   ]
  },
  {
   "attachments": {},
   "cell_type": "markdown",
   "metadata": {},
   "source": [
    "# le funzioni in javascript\n",
    "\n",
    "le funzioni in JS sono oggetti di prima classe, cioè possono essere passate\n",
    "come argomenti, assegnate a variabili e restituite da altre funzioni\n",
    "\n",
    "metodi di definizione funzione in JS:\n",
    "\n",
    "- Dichiarazione/Istruzione di funzione \n",
    "- Espressione di funzione\n",
    "\n",
    "### Dichiarazione di funzione \n",
    "\n"
   ]
  },
  {
   "cell_type": "code",
   "execution_count": null,
   "metadata": {},
   "outputs": [],
   "source": [
    "function add(a: number, b: number):number{\n",
    "    return a+b;\n",
    "}\n",
    "\n",
    "add(1,2);\n",
    "\n"
   ]
  },
  {
   "attachments": {},
   "cell_type": "markdown",
   "metadata": {},
   "source": [
    "### arrowfunction"
   ]
  },
  {
   "cell_type": "code",
   "execution_count": null,
   "metadata": {},
   "outputs": [],
   "source": [
    "const add2 = (a: number, b: number): number =>a+b;\n",
    "add2(1,2);\n",
    "\n",
    "function creaContatore(){\n",
    "    let contatore =0;\n",
    "    return function(){\n",
    "        return contatore++;\n",
    "    }\n",
    "}"
   ]
  }
 ],
 "metadata": {
  "kernelspec": {
   "display_name": "Deno",
   "language": "typescript",
   "name": "deno"
  },
  "language_info": {
   "file_extension": ".ts",
   "mimetype": "text/x.typescript",
   "name": "typescript",
   "nb_converter": "script",
   "pygments_lexer": "typescript",
   "version": "5.3.3"
  }
 },
 "nbformat": 4,
 "nbformat_minor": 4
}
