{
 "cells": [
  {
   "cell_type": "code",
   "execution_count": null,
   "metadata": {},
   "outputs": [
    {
     "name": "stdout",
     "output_type": "stream",
     "text": [
      "Hello, World!\n"
     ]
    }
   ],
   "source": [
    "console.log('Hello, World!');"
   ]
  },
  {
   "cell_type": "code",
   "execution_count": null,
   "metadata": {},
   "outputs": [],
   "source": [
    "console.log('ciao');"
   ]
  },
  {
   "attachments": {},
   "cell_type": "markdown",
   "metadata": {},
   "source": [
    "# le funzioni in javascript\n",
    "\n",
    "le funzioni in JS sono oggetti di prima classe, cioè possono essere passate\n",
    "come argomenti, assegnate a variabili e restituite da altre funzioni\n",
    "\n",
    "metodi di definizione funzione in JS:\n",
    "\n",
    "- Dichiarazione/Istruzione di funzione \n",
    "- Espressione di funzione\n",
    "\n",
    "### Dichiarazione di funzione \n",
    "\n"
   ]
  },
  {
   "cell_type": "code",
   "execution_count": null,
   "metadata": {},
   "outputs": [],
   "source": [
    "function add(a: number, b: number):number{\n",
    "    return a+b;\n",
    "}\n",
    "\n",
    "add(1,2);\n",
    "\n"
   ]
  },
  {
   "attachments": {},
   "cell_type": "markdown",
   "metadata": {},
   "source": [
    "### arrowfunction"
   ]
  },
  {
   "cell_type": "code",
   "execution_count": null,
   "metadata": {},
   "outputs": [],
   "source": [
    "const add2 = (a: number, b: number): number =>a+b;\n",
    "add2(1,2);\n",
    "\n",
    "function creaContatore(){\n",
    "    let contatore =0;\n",
    "    return function(){\n",
    "        return contatore++;\n",
    "    }\n",
    "}"
   ]
  },
  {
   "attachments": {},
   "cell_type": "markdown",
   "metadata": {},
   "source": [
    "## clousure\n",
    "\n",
    "una clousure è una funzione che cattura le variabili dall'ambiente circostante in cui è statoi creato\n",
    "\n",
    "# javascript\n",
    "function creaContatore(){\n",
    "    let contatore = 0;\n",
    "    return function(){\n",
    "        return contatore++;\n",
    "    }\n",
    "}"
   ]
  },
  {
   "cell_type": "code",
   "execution_count": null,
   "metadata": {},
   "outputs": [],
   "source": [
    "function creaContatore(){\n",
    "    let contatore = 0;\n",
    "    return function(){\n",
    "        return contatore++;\n",
    "    }\n",
    "}\n",
    "\n",
    "const contatore = creaContatore();\n",
    "const contatore1 = creaContatore();\n",
    "const contatore2 = creaContatore();\n",
    "\n",
    "console.log(contatore());// 0\n",
    "console.log(contatore());// 1\n",
    "console.log(contatore1()); // 0\n",
    "console.log(contatore2()); // 0\n",
    "console.log(contatore1()); // 0\n",
    "\n",
    "function creaContatore1(){\n",
    "    let contatore = 0;\n",
    "    return function(){\n",
    "        return contatore++;\n",
    "    }\n",
    "}\n",
    "\n",
    "const contatore3 = creaContatore1();\n",
    "console.log(contatore3());\n",
    "console.log(contatore3());\n",
    "\n"
   ]
  },
  {
   "attachments": {},
   "cell_type": "markdown",
   "metadata": {},
   "source": [
    "## Oggetto in Javascript\n",
    "\n",
    "gli oggetti in Javascript sono collezioni di coppie chiavi-valore\n",
    "\n",
    "const oggetto = {\n",
    "    <chiave1> : <valore1>,\n",
    "    ......\n",
    "    <chiaveN> : <valoreN>\n",
    "\n",
    "};\n",
    "\n",
    "### Accesso ai valori"
   ]
  },
  {
   "cell_type": "code",
   "execution_count": null,
   "metadata": {},
   "outputs": [],
   "source": []
  }
 ],
 "metadata": {
  "kernelspec": {
   "display_name": "Deno",
   "language": "typescript",
   "name": "deno"
  },
  "language_info": {
   "file_extension": ".ts",
   "mimetype": "text/x.typescript",
   "name": "typescript",
   "nb_converter": "script",
   "pygments_lexer": "typescript",
   "version": "5.3.3"
  }
 },
 "nbformat": 4,
 "nbformat_minor": 4
}
